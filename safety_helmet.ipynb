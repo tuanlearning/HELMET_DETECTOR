{
 "cells": [
  {
   "cell_type": "code",
   "execution_count": 4,
   "metadata": {},
   "outputs": [
    {
     "ename": "ImportError",
     "evalue": "cannot import name 'yolov10' from 'ultralytics' (c:\\Users\\PC\\OneDrive\\Desktop\\AIO\\AIO-Project\\SAFETY_MONITORING\\safety_monitor\\Lib\\site-packages\\ultralytics\\__init__.py)",
     "output_type": "error",
     "traceback": [
      "\u001b[1;31m---------------------------------------------------------------------------\u001b[0m",
      "\u001b[1;31mImportError\u001b[0m                               Traceback (most recent call last)",
      "Cell \u001b[1;32mIn[4], line 1\u001b[0m\n\u001b[1;32m----> 1\u001b[0m \u001b[38;5;28;01mfrom\u001b[39;00m \u001b[38;5;21;01multralytics\u001b[39;00m \u001b[38;5;28;01mimport\u001b[39;00m yolov10\n\u001b[0;32m      3\u001b[0m MODEL_PATH \u001b[38;5;241m=\u001b[39m \u001b[38;5;124m'\u001b[39m\u001b[38;5;124m./yolov10/yolov10n.pt\u001b[39m\u001b[38;5;124m'\u001b[39m\n\u001b[0;32m      4\u001b[0m model \u001b[38;5;241m=\u001b[39m YOLOv10(MODEL_PATH)\n",
      "\u001b[1;31mImportError\u001b[0m: cannot import name 'yolov10' from 'ultralytics' (c:\\Users\\PC\\OneDrive\\Desktop\\AIO\\AIO-Project\\SAFETY_MONITORING\\safety_monitor\\Lib\\site-packages\\ultralytics\\__init__.py)"
     ]
    }
   ],
   "source": [
    "!git clone https://github.com/THU-MIG/yolov10.git\n",
    "%cd yolov10\n",
    "!pip install -q -r requirements . txt\n",
    "!pip install -e ."
   ]
  },
  {
   "cell_type": "code",
   "execution_count": null,
   "metadata": {},
   "outputs": [],
   "source": [
    "from ultralytics import YOLOv10\n",
    "\n",
    "MODEL_PATH = '/content/yolov10/yolov10n.pt'\n",
    "model = YOLOv10(MODEL_PATH)"
   ]
  },
  {
   "cell_type": "code",
   "execution_count": null,
   "metadata": {},
   "outputs": [],
   "source": [
    "! gdown '1twdtZEfcw4ghSZIiPDypJurZnNXzMO7R'\n",
    "! unzip -q '/content/yolov10/Safety_Helmet_Dataset.zip' -d '/content/safety_helmet_dataset'"
   ]
  },
  {
   "cell_type": "code",
   "execution_count": null,
   "metadata": {},
   "outputs": [],
   "source": [
    "YAML_PATH = '/content/safety_helmet_dataset/data.yaml'\n",
    "EPOCHS = 50\n",
    "IMG_SIZE = 640\n",
    "BATCH_SIZE = 16\n",
    "\n",
    "model.train (data = YAML_PATH,\n",
    "epochs = EPOCHS,\n",
    "batch = BATCH_SIZE,\n",
    "imgsz = IMG_SIZE)"
   ]
  },
  {
   "cell_type": "code",
   "execution_count": null,
   "metadata": {},
   "outputs": [],
   "source": [
    "TRAINED_MODEL_PATH = 'runs/detect/train/weights/best.pt'\n",
    "model = YOLOv10 ( TRAINED_MODEL_PATH )\n",
    "\n",
    "model . val ( data = YAML_PATH ,\n",
    "imgsz = IMG_SIZE ,\n",
    "split ='test')"
   ]
  }
 ],
 "metadata": {
  "kernelspec": {
   "display_name": "safety_monitor",
   "language": "python",
   "name": "python3"
  },
  "language_info": {
   "codemirror_mode": {
    "name": "ipython",
    "version": 3
   },
   "file_extension": ".py",
   "mimetype": "text/x-python",
   "name": "python",
   "nbconvert_exporter": "python",
   "pygments_lexer": "ipython3",
   "version": "3.11.5"
  }
 },
 "nbformat": 4,
 "nbformat_minor": 2
}
